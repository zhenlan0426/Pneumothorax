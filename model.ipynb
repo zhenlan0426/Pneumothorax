{
 "cells": [
  {
   "cell_type": "code",
   "execution_count": 1,
   "metadata": {},
   "outputs": [],
   "source": [
    "import torch\n",
    "import matplotlib.pyplot as plt\n",
    "import pickle\n",
    "import pandas as pd\n",
    "\n",
    "from functions import *\n",
    "from torch.utils.data import DataLoader\n",
    "from torch.optim.lr_scheduler import ReduceLROnPlateau\n",
    "from pytorch_util import RAdam,trainable_parameter"
   ]
  },
  {
   "cell_type": "code",
   "execution_count": 2,
   "metadata": {},
   "outputs": [],
   "source": [
    "sz = 256\n",
    "batch_size = 8\n",
    "epochs = 10\n",
    "clip = 1.0\n",
    "lr = 3e-4\n",
    "encoder_str = 'efficientnet-b2'\n",
    "decoder_channels=(256, 128, 64, 32, 16)\n",
    "decoder_repeats=(2,2,2,2,2)\n",
    "opt_level=\"O1\""
   ]
  },
  {
   "cell_type": "code",
   "execution_count": 3,
   "metadata": {},
   "outputs": [],
   "source": [
    "images_dir = \"../Data/pickles_\"+str(sz)+\"/images/\"\n",
    "masks_dir = r\"../Data/pickles_\"+str(sz)+\"/masks/\""
   ]
  },
  {
   "cell_type": "code",
   "execution_count": 4,
   "metadata": {},
   "outputs": [],
   "source": [
    "imageId = pd.read_csv('../Data/stage_2_train.csv')['ImageId'].values.tolist()\n",
    "np.random.shuffle(imageId)"
   ]
  },
  {
   "cell_type": "code",
   "execution_count": null,
   "metadata": {},
   "outputs": [],
   "source": []
  },
  {
   "cell_type": "code",
   "execution_count": 5,
   "metadata": {},
   "outputs": [],
   "source": [
    "# setup train/val\n",
    "imageId_val = imageId[:2400]\n",
    "imageId_train = imageId[2400:]"
   ]
  },
  {
   "cell_type": "code",
   "execution_count": 6,
   "metadata": {},
   "outputs": [],
   "source": [
    "if sz in preprocessing_dict:\n",
    "    dataset_train = dataset(imageId_train,images_dir,masks_dir,transform,preprocessing_dict[sz])\n",
    "else:\n",
    "    dataset_train = dataset(imageId_train,images_dir,masks_dir,transform)\n",
    "    dataset_train._cal_preprocessing()\n",
    "dataset_val = dataset(imageId_val,images_dir,masks_dir,preprocessing=dataset_train.preprocessing)\n",
    "\n",
    "train_loader = DataLoader(dataset_train, batch_size=batch_size, shuffle=True, num_workers=4)\n",
    "valid_loader = DataLoader(dataset_val, batch_size=batch_size, shuffle=False, num_workers=4)"
   ]
  },
  {
   "cell_type": "code",
   "execution_count": 45,
   "metadata": {},
   "outputs": [],
   "source": [
    "# imgs,masks = next(iter(train_loader))"
   ]
  },
  {
   "cell_type": "code",
   "execution_count": null,
   "metadata": {},
   "outputs": [],
   "source": []
  },
  {
   "cell_type": "code",
   "execution_count": 9,
   "metadata": {
    "scrolled": true
   },
   "outputs": [
    {
     "name": "stdout",
     "output_type": "stream",
     "text": [
      "Selected optimization level O1:  Insert automatic casts around Pytorch functions and Tensor methods.\n",
      "\n",
      "Defaults for this optimization level are:\n",
      "enabled                : True\n",
      "opt_level              : O1\n",
      "cast_model_type        : None\n",
      "patch_torch_functions  : True\n",
      "keep_batchnorm_fp32    : None\n",
      "master_weights         : None\n",
      "loss_scale             : dynamic\n",
      "Processing user overrides (additional kwargs that are not None)...\n",
      "After processing overrides, optimization options are:\n",
      "enabled                : True\n",
      "opt_level              : O1\n",
      "cast_model_type        : None\n",
      "patch_torch_functions  : True\n",
      "keep_batchnorm_fp32    : None\n",
      "master_weights         : None\n",
      "loss_scale             : dynamic\n"
     ]
    }
   ],
   "source": [
    "encoder = EfficientNet_encoder.from_pretrained(encoder_str)\n",
    "decoder = EfficientNet_decoder(sz,encoder_channels[encoder_str],\\\n",
    "                               decoder_channels=decoder_channels,decoder_repeats=decoder_repeats)\n",
    "model = Unet(encoder,decoder).to('cuda')\n",
    "paras = trainable_parameter(model)\n",
    "opt = RAdam(paras,lr=lr,weight_decay=1e-2)\n",
    "scheduler = ReduceLROnPlateau(opt, 'min',factor=0.5,patience=5,min_lr=1e-05)\n",
    "model, opt = amp.initialize(model, opt, opt_level=opt_level)"
   ]
  },
  {
   "cell_type": "code",
   "execution_count": 11,
   "metadata": {
    "scrolled": false
   },
   "outputs": [
    {
     "name": "stdout",
     "output_type": "stream",
     "text": [
      "epoch:0, train_loss: +1.423, val_loss: +1.467\n",
      "\n",
      "Gradient overflow.  Skipping step, loss scaler 0 reducing loss scale to 32768.0\n",
      "Gradient overflow.  Skipping step, loss scaler 0 reducing loss scale to 16384.0\n",
      "epoch:1, train_loss: +0.852, val_loss: +0.755\n",
      "\n",
      "epoch:2, train_loss: +0.707, val_loss: +0.612\n",
      "\n",
      "Gradient overflow.  Skipping step, loss scaler 0 reducing loss scale to 16384.0\n",
      "epoch:3, train_loss: +0.667, val_loss: +0.603\n",
      "\n",
      "Gradient overflow.  Skipping step, loss scaler 0 reducing loss scale to 8192.0\n",
      "epoch:4, train_loss: +0.658, val_loss: +0.604\n",
      "\n",
      "Gradient overflow.  Skipping step, loss scaler 0 reducing loss scale to 8192.0\n",
      "epoch:5, train_loss: +0.641, val_loss: +0.639\n",
      "\n",
      "epoch:6, train_loss: +0.635, val_loss: +0.597\n",
      "\n",
      "Gradient overflow.  Skipping step, loss scaler 0 reducing loss scale to 8192.0\n",
      "Gradient overflow.  Skipping step, loss scaler 0 reducing loss scale to 4096.0\n",
      "epoch:7, train_loss: +0.631, val_loss: +0.583\n",
      "\n",
      "epoch:8, train_loss: +0.617, val_loss: +0.565\n",
      "\n",
      "epoch:9, train_loss: +0.618, val_loss: +0.559\n",
      "\n",
      "Training completed in 4757.226325511932s\n"
     ]
    }
   ],
   "source": [
    "model,bestOpt,bestWeight = train(opt,model,epochs,train_loader,\\\n",
    "                                 valid_loader,paras,clip,scheduler=scheduler)"
   ]
  },
  {
   "cell_type": "code",
   "execution_count": null,
   "metadata": {},
   "outputs": [],
   "source": []
  },
  {
   "cell_type": "code",
   "execution_count": 13,
   "metadata": {},
   "outputs": [],
   "source": [
    "checkpoint = {\n",
    "    'model': model.state_dict(),\n",
    "    'opt': opt.state_dict(),\n",
    "    'amp': amp.state_dict()\n",
    "}\n",
    "torch.save(checkpoint, '../Model/'+str(sz)+'_'+encoder_str+'_'+str(decoder_channels)+'_'+str(decoder_repeats)+'.pt')"
   ]
  },
  {
   "cell_type": "code",
   "execution_count": null,
   "metadata": {},
   "outputs": [],
   "source": [
    "# checkpoint = torch.load('amp_checkpoint.pt')\n",
    "# model, optimizer = amp.initialize(model, optimizer, opt_level=opt_level)\n",
    "# model.load_state_dict(checkpoint['model'])\n",
    "# optimizer.load_state_dict(checkpoint['optimizer'])\n",
    "# amp.load_state_dict(checkpoint['amp'])"
   ]
  },
  {
   "cell_type": "code",
   "execution_count": null,
   "metadata": {},
   "outputs": [],
   "source": []
  },
  {
   "cell_type": "code",
   "execution_count": null,
   "metadata": {},
   "outputs": [],
   "source": []
  },
  {
   "cell_type": "code",
   "execution_count": null,
   "metadata": {},
   "outputs": [],
   "source": []
  }
 ],
 "metadata": {
  "kernelspec": {
   "display_name": "Python 3",
   "language": "python",
   "name": "python3"
  },
  "language_info": {
   "codemirror_mode": {
    "name": "ipython",
    "version": 3
   },
   "file_extension": ".py",
   "mimetype": "text/x-python",
   "name": "python",
   "nbconvert_exporter": "python",
   "pygments_lexer": "ipython3",
   "version": "3.7.4"
  }
 },
 "nbformat": 4,
 "nbformat_minor": 2
}

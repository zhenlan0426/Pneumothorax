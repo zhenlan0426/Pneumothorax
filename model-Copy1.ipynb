{
 "cells": [
  {
   "cell_type": "code",
   "execution_count": 4,
   "metadata": {},
   "outputs": [],
   "source": [
    "import torch\n",
    "import matplotlib.pyplot as plt\n",
    "from sklearn.model_selection import KFold\n",
    "import pickle\n",
    "import pandas as pd\n",
    "\n",
    "from functions import *\n",
    "from torch.utils.data import DataLoader"
   ]
  },
  {
   "cell_type": "code",
   "execution_count": 14,
   "metadata": {},
   "outputs": [],
   "source": [
    "sz = 1024\n",
    "fold = 0"
   ]
  },
  {
   "cell_type": "code",
   "execution_count": 3,
   "metadata": {},
   "outputs": [],
   "source": [
    "with open(r\"../Data/train_imgs_torch_\"+str(sz)+\".pickle\", \"rb\") as input_file:\n",
    "    train = pickle.load(input_file)\n",
    "with open(r\"../Data/masks_torch_\"+str(sz)+\".pickle\", \"rb\") as input_file:\n",
    "    mask = pickle.load(input_file)\n",
    "# with open(r\"../Data/test_imgs_torch_\"+str(sz)+\".pickle\", \"rb\") as input_file:\n",
    "#     test = pickle.load(input_file)"
   ]
  },
  {
   "cell_type": "code",
   "execution_count": 5,
   "metadata": {},
   "outputs": [],
   "source": [
    "# setup kfold\n",
    "kf = KFold(n_splits=5,shuffle=True,random_state=7)\n",
    "for i,(train_idx,val_idx) in enumerate(kf.split(train[:,:,0])):\n",
    "    if i==fold:\n",
    "        break\n",
    "\n",
    "val_img = train[val_idx]\n",
    "val_mask = mask[val_idx]\n",
    "train_img = train[train_idx]\n",
    "train_mask = mask[train_idx]"
   ]
  },
  {
   "cell_type": "code",
   "execution_count": null,
   "metadata": {},
   "outputs": [],
   "source": []
  },
  {
   "cell_type": "code",
   "execution_count": 63,
   "metadata": {},
   "outputs": [],
   "source": [
    "if sz in preprocessing_dict:\n",
    "    dataset_train = dataset(train_img,train_mask,transform,preprocessing_dict[sz])\n",
    "else:\n",
    "    dataset_train = dataset(train_img,train_mask,transform)\n",
    "    dataset_train._cal_preprocessing()\n",
    "dataset_val = dataset(val_img,val_mask,preprocessing=dataset_train.preprocessing)\n",
    "\n",
    "train_loader = DataLoader(dataset_train, batch_size=8, shuffle=True, num_workers=4)\n",
    "valid_loader = DataLoader(dataset_val, batch_size=8, shuffle=False, num_workers=4)"
   ]
  },
  {
   "cell_type": "code",
   "execution_count": 68,
   "metadata": {},
   "outputs": [],
   "source": [
    "#imgs,masks = next(iter(train_loader))"
   ]
  },
  {
   "cell_type": "code",
   "execution_count": null,
   "metadata": {},
   "outputs": [],
   "source": []
  },
  {
   "cell_type": "code",
   "execution_count": null,
   "metadata": {},
   "outputs": [],
   "source": []
  },
  {
   "cell_type": "code",
   "execution_count": null,
   "metadata": {},
   "outputs": [],
   "source": []
  }
 ],
 "metadata": {
  "kernelspec": {
   "display_name": "Python 3",
   "language": "python",
   "name": "python3"
  },
  "language_info": {
   "codemirror_mode": {
    "name": "ipython",
    "version": 3
   },
   "file_extension": ".py",
   "mimetype": "text/x-python",
   "name": "python",
   "nbconvert_exporter": "python",
   "pygments_lexer": "ipython3",
   "version": "3.7.4"
  }
 },
 "nbformat": 4,
 "nbformat_minor": 2
}

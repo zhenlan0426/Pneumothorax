{
 "cells": [
  {
   "cell_type": "code",
   "execution_count": 1,
   "metadata": {
    "_cell_guid": "b1076dfc-b9ad-4769-8c92-a6c4dae69d19",
    "_uuid": "8f2839f25d086af736a60e9eeb907d3b93b6e0e5"
   },
   "outputs": [],
   "source": [
    "import os\n",
    "import cv2\n",
    "import glob2\n",
    "import pydicom\n",
    "import zipfile\n",
    "import pandas as pd\n",
    "import numpy as np\n",
    "import matplotlib.pyplot as plt\n",
    "from skimage import exposure\n",
    "import pickle\n",
    "from mask_functions import *"
   ]
  },
  {
   "cell_type": "code",
   "execution_count": 2,
   "metadata": {
    "_cell_guid": "79c7e3d0-c299-4dcb-8224-4455121ee9b0",
    "_uuid": "d629ff2d2480ee46fbb7e2d37f6b5fab8052498a"
   },
   "outputs": [],
   "source": [
    "sz = 256\n",
    "sz0 = 1024\n",
    "PATH_TRAIN0 = '../Data/dicom-images-train/'\n",
    "PATH_TRAIN1 = '../Data/dicom-images-test/'\n",
    "PATH_TEST = '../Data/stage_2_images/'"
   ]
  },
  {
   "cell_type": "code",
   "execution_count": 3,
   "metadata": {},
   "outputs": [],
   "source": [
    "train = glob2.glob(os.path.join(PATH_TRAIN0, '**/*.dcm'))+glob2.glob(os.path.join(PATH_TRAIN1, '**/*.dcm'))\n",
    "test = glob2.glob(os.path.join(PATH_TEST, '**/*.dcm'))\n",
    "\n",
    "df = pd.read_csv('../Data/stage_2_train.csv').set_index('ImageId')\n",
    "idxs = set(df.index)\n",
    "train_names = []\n",
    "for f in train: #remove images without labels\n",
    "    name = f.split('/')[-1][:-4]\n",
    "    if name in idxs: train_names.append(f)"
   ]
  },
  {
   "cell_type": "code",
   "execution_count": null,
   "metadata": {},
   "outputs": [],
   "source": []
  },
  {
   "cell_type": "code",
   "execution_count": 4,
   "metadata": {},
   "outputs": [],
   "source": [
    "def convert_image(filename, sz=1024):\n",
    "    ds = pydicom.read_file(str(filename))\n",
    "    img = ds.pixel_array\n",
    "    if sz != 1024:\n",
    "        img = cv2.resize(img, (sz, sz))\n",
    "    img = exposure.equalize_adapthist(img) # contrast correction\n",
    "    img = img.astype(np.float32)\n",
    "    np.save(r\"../Data/pickles_\"+str(sz)+\"/images/\"+filename.split('/')[-1][:-4]+\".npy\",img)\n",
    "#     with open(r\"../Data/pickles_\"+str(sz)+\"/images/\"+filename.split('/')[-1][:-4]+\".pickle\", \"wb\") as output_file:\n",
    "#         pickle.dump(img, output_file)"
   ]
  },
  {
   "cell_type": "code",
   "execution_count": 5,
   "metadata": {},
   "outputs": [],
   "source": [
    "for fname in train_names:\n",
    "    convert_image(fname,sz)"
   ]
  },
  {
   "cell_type": "code",
   "execution_count": 6,
   "metadata": {},
   "outputs": [],
   "source": [
    "for fname in test:\n",
    "    convert_image(fname,sz)"
   ]
  },
  {
   "cell_type": "code",
   "execution_count": null,
   "metadata": {},
   "outputs": [],
   "source": []
  },
  {
   "cell_type": "code",
   "execution_count": null,
   "metadata": {},
   "outputs": [],
   "source": []
  },
  {
   "cell_type": "code",
   "execution_count": 7,
   "metadata": {},
   "outputs": [],
   "source": [
    "def convert_mask(fname, sz=1024):\n",
    "    masks = df.loc[fname.split('/')[-1][:-4],'EncodedPixels']\n",
    "    img = np.zeros((sz0,sz0))\n",
    "    #do conversion if mask is not \" -1\"\n",
    "    if(type(masks) != str or (type(masks) == str and masks != '-1')):\n",
    "        if(type(masks) == str): masks = [masks]\n",
    "        else: masks = masks.tolist()\n",
    "        for mask in masks:\n",
    "            img += rle2mask(mask, sz0, sz0).T\n",
    "    if sz != 1024:\n",
    "        img = cv2.resize(img, (sz, sz))\n",
    "    img = img.astype(np.float32)/255\n",
    "    np.save(r\"../Data/pickles_\"+str(sz)+\"/masks/\"+fname.split('/')[-1][:-4]+\".npy\",img)\n",
    "#     with open(r\"../Data/pickles_\"+str(sz)+\"/masks/\"+fname.split('/')[-1][:-4]+\".pickle\", \"wb\") as output_file:\n",
    "#         pickle.dump(img, output_file)    "
   ]
  },
  {
   "cell_type": "code",
   "execution_count": 8,
   "metadata": {},
   "outputs": [],
   "source": [
    "for fname in train_names:\n",
    "    convert_mask(fname,sz)"
   ]
  },
  {
   "cell_type": "code",
   "execution_count": null,
   "metadata": {},
   "outputs": [],
   "source": []
  }
 ],
 "metadata": {
  "kernelspec": {
   "display_name": "Python 3",
   "language": "python",
   "name": "python3"
  },
  "language_info": {
   "codemirror_mode": {
    "name": "ipython",
    "version": 3
   },
   "file_extension": ".py",
   "mimetype": "text/x-python",
   "name": "python",
   "nbconvert_exporter": "python",
   "pygments_lexer": "ipython3",
   "version": "3.7.4"
  }
 },
 "nbformat": 4,
 "nbformat_minor": 1
}
